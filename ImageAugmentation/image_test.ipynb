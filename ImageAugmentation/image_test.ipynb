{
 "cells": [
  {
   "cell_type": "code",
   "execution_count": 1,
   "metadata": {},
   "outputs": [],
   "source": [
    "from torchvision.datasets import ImageFolder\n",
    "from torchvision import transforms\n",
    "import sys\n",
    "import os\n",
    "from torchvision.datasets import ImageFolder\n",
    "from augmentations import augmentations as A\n",
    "from augmentations.TSKinFace_Dataset import TSKinDataset"
   ]
  },
  {
   "cell_type": "code",
   "execution_count": 92,
   "metadata": {},
   "outputs": [
    {
     "data": {
      "text/plain": [
       "['FMSD-F', 'FMSD-M', 'FMSD-C']"
      ]
     },
     "execution_count": 92,
     "metadata": {},
     "output_type": "execute_result"
    }
   ],
   "source": [
    "[d.name for d in os.scandir('../dataset/TSKinFace_Data/TSKinFace_cropped/FMSD/') if d.is_dir()]"
   ]
  },
  {
   "cell_type": "code",
   "execution_count": 101,
   "metadata": {},
   "outputs": [],
   "source": [
    "class TSKinDataset(ImageFolder):\n",
    "    def __init__(self, root, transform=None):\n",
    "        super(TSKinDataset, self).__init__(root)\n",
    "        self.data = ImageFolder(root, transform)\n",
    "        self.root = root\n",
    "        self.data.classes, self.data.class_to_idx = self._find_classes(root)\n",
    "    \n",
    "    def _find_classes(self, image):\n",
    "        if sys.version_info >= (3, 5):\n",
    "            classes = [d.name for d in os.scandir(self.root) if d.is_dir()]\n",
    "        else:\n",
    "            classes = [d for d in os.listdir(self.root) if os.path.isdir(os.path.join(self.root, d))]\n",
    "        classes.sort()\n",
    "        class_to_idx = {classes[i]: i for i in range(len(classes))}\n",
    "        return classes, class_to_idx"
   ]
  },
  {
   "cell_type": "code",
   "execution_count": 105,
   "metadata": {},
   "outputs": [],
   "source": [
    "default_dataset = TSKinDataset(\n",
    "    root = '../dataset/TSKinFace_Data/TSKinFace_cropped/FMSD/',\n",
    "    transform = transforms.Compose([\n",
    "        transforms.ToTensor(),\n",
    "    ])\n",
    ")"
   ]
  },
  {
   "cell_type": "code",
   "execution_count": 106,
   "metadata": {},
   "outputs": [
    {
     "data": {
      "text/plain": [
       "{'FMSD-C': 0, 'FMSD-F': 1, 'FMSD-M': 2}"
      ]
     },
     "execution_count": 106,
     "metadata": {},
     "output_type": "execute_result"
    }
   ],
   "source": [
    "default_dataset.class_to_idx"
   ]
  },
  {
   "cell_type": "code",
   "execution_count": 107,
   "metadata": {},
   "outputs": [
    {
     "data": {
      "text/plain": [
       "Dataset TSKinDataset\n",
       "    Number of datapoints: 912\n",
       "    Root location: ../dataset/TSKinFace_Data/TSKinFace_cropped/FMSD/"
      ]
     },
     "execution_count": 107,
     "metadata": {},
     "output_type": "execute_result"
    }
   ],
   "source": [
    "default_dataset"
   ]
  },
  {
   "cell_type": "code",
   "execution_count": 110,
   "metadata": {},
   "outputs": [
    {
     "data": {
      "image/png": "[encoded data removed]",
      "text/plain": [
       "<PIL.Image.Image image mode=RGB size=64x64>"
      ]
     },
     "execution_count": 110,
     "metadata": {},
     "output_type": "execute_result"
    }
   ],
   "source": [
    "default_dataset[456][0]"
   ]
  },
  {
   "cell_type": "code",
   "execution_count": 29,
   "metadata": {},
   "outputs": [],
   "source": [
    "import numpy as np"
   ]
  },
  {
   "cell_type": "code",
   "execution_count": 30,
   "metadata": {},
   "outputs": [],
   "source": [
    "alpha= 0.2\n",
    "min_lam=0\n",
    "max_lam=1"
   ]
  },
  {
   "cell_type": "code",
   "execution_count": 36,
   "metadata": {},
   "outputs": [],
   "source": [
    "lam = np.clip(np.random.beta(alpha, alpha), min_lam, max_lam) "
   ]
  },
  {
   "cell_type": "code",
   "execution_count": 37,
   "metadata": {},
   "outputs": [
    {
     "data": {
      "text/plain": [
       "0.8720264275108531"
      ]
     },
     "execution_count": 37,
     "metadata": {},
     "output_type": "execute_result"
    }
   ],
   "source": [
    "lam"
   ]
  },
  {
   "cell_type": "code",
   "execution_count": 38,
   "metadata": {},
   "outputs": [
    {
     "data": {
      "text/plain": [
       "Dataset ImageFolder\n",
       "    Number of datapoints: 2589\n",
       "    Root location: ../dataset/TSKinFace_Data/TSKinFace_cropped\n",
       "    StandardTransform\n",
       "Transform: Compose(\n",
       "               ToTensor()\n",
       "           )"
      ]
     },
     "execution_count": 38,
     "metadata": {},
     "output_type": "execute_result"
    }
   ],
   "source": [
    "default_dataset"
   ]
  },
  {
   "cell_type": "code",
   "execution_count": 46,
   "metadata": {},
   "outputs": [],
   "source": [
    "from pathlib import Path\n",
    "\n",
    "# Path(\"path/to/current/file.foo\").rename(\"path/to/new/destination/for/file.foo\")"
   ]
  },
  {
   "cell_type": "code",
   "execution_count": 48,
   "metadata": {},
   "outputs": [
    {
     "data": {
      "text/plain": [
       "PosixPath('../dataset/TSKinFace_Data/TSKinFace_cropped/FMSD/FMSD-C/FMSD-1-D.jpg')"
      ]
     },
     "execution_count": 48,
     "metadata": {},
     "output_type": "execute_result"
    }
   ],
   "source": [
    "Path(\"../dataset/TSKinFace_Data/TSKinFace_cropped/FMSD/FMSD-1-D.jpg\").rename(\"../dataset/TSKinFace_Data/TSKinFace_cropped/FMSD/FMSD-C/FMSD-1-D.jpg\")"
   ]
  },
  {
   "cell_type": "code",
   "execution_count": 68,
   "metadata": {},
   "outputs": [],
   "source": [
    "from os import listdir\n",
    "from os.path import isfile, join\n",
    "onlyfiles = [f for f in listdir('../dataset/TSKinFace_Data/TSKinFace_cropped/FMS') if isfile(join('../dataset/TSKinFace_Data/TSKinFace_cropped/FMS', f))]"
   ]
  },
  {
   "cell_type": "code",
   "execution_count": 54,
   "metadata": {},
   "outputs": [
    {
     "data": {
      "text/plain": [
       "'S'"
      ]
     },
     "execution_count": 54,
     "metadata": {},
     "output_type": "execute_result"
    }
   ],
   "source": [
    "onlyfiles[0].split(\".\")[0][-1]"
   ]
  },
  {
   "cell_type": "code",
   "execution_count": 70,
   "metadata": {},
   "outputs": [],
   "source": [
    "for f in onlyfiles:\n",
    "    if f.split('.')[0][-1] == 'S':\n",
    "        Path(\"../dataset/TSKinFace_Data/TSKinFace_cropped/FMS/\"+f).rename(\"../dataset/TSKinFace_Data/TSKinFace_cropped/FMS/FMS-C/\"+f)\n",
    "    elif f.split('.')[0][-1] == 'D':\n",
    "        Path(\"../dataset/TSKinFace_Data/TSKinFace_cropped/FMS/\"+f).rename(\"../dataset/TSKinFace_Data/TSKinFace_cropped/FMS/FMS-C/\"+f)\n",
    "    elif f.split('.')[0][-1] == 'F':\n",
    "        Path(\"../dataset/TSKinFace_Data/TSKinFace_cropped/FMS/\"+f).rename(\"../dataset/TSKinFace_Data/TSKinFace_cropped/FMS/FMS-F/\"+f)\n",
    "    elif f.split('.')[0][-1] == 'M':\n",
    "        Path(\"../dataset/TSKinFace_Data/TSKinFace_cropped/FMS/\"+f).rename(\"../dataset/TSKinFace_Data/TSKinFace_cropped/FMS/FMS-M/\"+f)"
   ]
  },
  {
   "cell_type": "code",
   "execution_count": 2,
   "metadata": {},
   "outputs": [],
   "source": [
    "default_dataset = ImageFolder(\n",
    "    root = '../dataset/TSKinFace_Data/TSKinFace_cropped/FMSD/',\n",
    "    transform = transforms.Compose([\n",
    "        transforms.ToTensor(),\n",
    "    ])\n",
    ")"
   ]
  },
  {
   "cell_type": "code",
   "execution_count": 4,
   "metadata": {},
   "outputs": [],
   "source": [
    "dataset = TSKinDataset(\n",
    "    root = '../dataset/TSKinFace_Data/TSKinFace_cropped/FMSD/',\n",
    "    transform = transforms.Compose([\n",
    "        transforms.ToTensor(),\n",
    "        A.MixUp(dataset=default_dataset)\n",
    "    ])\n",
    ")"
   ]
  },
  {
   "cell_type": "code",
   "execution_count": 15,
   "metadata": {},
   "outputs": [
    {
     "data": {
      "image/png": "[encoded data removed]",
      "text/plain": [
       "<PIL.Image.Image image mode=RGB size=64x64>"
      ]
     },
     "execution_count": 15,
     "metadata": {},
     "output_type": "execute_result"
    }
   ],
   "source": [
    "dataset[451][0] "
   ]
  },
  {
   "cell_type": "code",
   "execution_count": null,
   "metadata": {},
   "outputs": [],
   "source": []
  }
 ],
 "metadata": {
  "kernelspec": {
   "display_name": "Python 3.9.13 ('base')",
   "language": "python",
   "name": "python3"
  },
  "language_info": {
   "codemirror_mode": {
    "name": "ipython",
    "version": 3
   },
   "file_extension": ".py",
   "mimetype": "text/x-python",
   "name": "python",
   "nbconvert_exporter": "python",
   "pygments_lexer": "ipython3",
   "version": "3.9.13"
  },
  "orig_nbformat": 4,
  "vscode": {
   "interpreter": {
    "hash": "a2ba810e8a9d10901fb497bbc1662d89ff82476063659303b89c7f94c2db2692"
   }
  }
 },
 "nbformat": 4,
 "nbformat_minor": 2
}
