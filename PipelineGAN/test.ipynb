{
  "cells": [
    {
      "cell_type": "markdown",
      "metadata": {
        "colab_type": "text",
        "id": "view-in-github"
      },
      "source": [
        "<a href=\"https://colab.research.google.com/github/zaidbhat1234/Image2StyleGAN/blob/main/Image2Style_Implementation.ipynb\" target=\"_parent\"><img src=\"https://colab.research.google.com/assets/colab-badge.svg\" alt=\"Open In Colab\"/></a>"
      ]
    },
    {
      "cell_type": "markdown",
      "metadata": {
        "id": "EOkD3m5DHLmd"
      },
      "source": [
        "##Resolving dependencies and importing libraries"
      ]
    },
    {
      "cell_type": "code",
      "execution_count": 3,
      "metadata": {},
      "outputs": [
        {
          "name": "stderr",
          "output_type": "stream",
          "text": [
            "/tmp/ipykernel_98192/3026857429.py:3: DeprecationWarning: ANTIALIAS is deprecated and will be removed in Pillow 10 (2023-07-01). Use Resampling.LANCZOS instead.\n",
            "  im_resized = im.resize(size, Image.ANTIALIAS)\n"
          ]
        }
      ],
      "source": [
        "size= 1024, 1024\n",
        "im = Image.open(\"geeks.jpg\")\n",
        "im_resized = im.resize(size, Image.ANTIALIAS)\n",
        "im_resized.save(\"geeks.jpg\", \"PNG\")"
      ]
    },
    {
      "cell_type": "code",
      "execution_count": 2,
      "metadata": {
        "id": "PdDq-9t5bMHs"
      },
      "outputs": [],
      "source": [
        "from stylegan_layers import  G_mapping,G_synthesis\n",
        "import torch\n",
        "import torch.optim as optim\n",
        "import torch.nn as nn\n",
        "from collections import OrderedDict\n",
        "import torch.nn.functional as F\n",
        "from PIL import Image\n",
        "from torchvision import transforms\n",
        "import torchvision\n",
        "from torchvision import models\n",
        "from torchvision.utils import save_image\n",
        "import numpy as np\n",
        "from math import log10\n",
        "import matplotlib.pyplot as plt\n"
      ]
    },
    {
      "attachments": {},
      "cell_type": "markdown",
      "metadata": {},
      "source": [
        "im = Image.open(\"my_image.png\")\n",
        "im_resized = im.resize(size, Image.ANTIALIAS)\n",
        "im_resized.save(\"my_image_resized.png\", \"PNG\")"
      ]
    },
    {
      "cell_type": "markdown",
      "metadata": {
        "id": "YFohF6yxHPfT"
      },
      "source": [
        "##Setup up the network on GPU"
      ]
    },
    {
      "cell_type": "code",
      "execution_count": 4,
      "metadata": {
        "id": "Lpzc3ssEbMvj"
      },
      "outputs": [
        {
          "name": "stdout",
          "output_type": "stream",
          "text": [
            "cuda:0\n"
          ]
        }
      ],
      "source": [
        "device = 'cuda:0' if torch.cuda.is_available() else 'cpu'\n",
        "print(device)\n",
        "g_all = nn.Sequential(OrderedDict([('g_mapping', G_mapping()),\n",
        "    #('truncation', Truncation(avg_latent)),\n",
        "    ('g_synthesis', G_synthesis(resolution=1024))    \n",
        "    ]))\n",
        "\n",
        "#Load the pre-trained model\n",
        "g_all.load_state_dict(torch.load('../../karras2019stylegan-ffhq-1024x1024.pt', map_location=device))\n",
        "g_all.eval()\n",
        "g_all.to(device)\n",
        "g_mapping, g_synthesis = g_all[0],g_all[1]\n"
      ]
    },
    {
      "cell_type": "code",
      "execution_count": null,
      "metadata": {
        "id": "WFFdq4w5WKju"
      },
      "outputs": [],
      "source": [
        "#%cd Images2/Hierar_optim #When testing Hierarchical Optimisation"
      ]
    },
    {
      "cell_type": "markdown",
      "metadata": {
        "id": "hNlNsmtNI-eU"
      },
      "source": [
        "##Read Images for inverting to latent space W+ and using in various experiments"
      ]
    },
    {
      "cell_type": "code",
      "execution_count": 5,
      "metadata": {
        "id": "64WmzCHXcPru"
      },
      "outputs": [
        {
          "name": "stdout",
          "output_type": "stream",
          "text": [
            "torch.Size([1, 3, 1024, 1024])\n",
            "ks\n",
            "torch.Size([1, 3, 1024, 1024])\n"
          ]
        }
      ],
      "source": [
        "#Read a sample image we want to find a latent vector for\n",
        "# IMages : Portrait00002.png\n",
        "img_path = 'geeks.jpg'\n",
        "with open(img_path,\"rb\") as f: \n",
        "  image=Image.open(f)\n",
        "  image=image.convert(\"RGB\")\n",
        "transform = transforms.Compose([transforms.ToTensor()])\n",
        "image = transform(image)\n",
        "image = image.unsqueeze(0)\n",
        "image = image.to(device)\n",
        "print(image.shape)\n",
        "\n",
        "path = img_path[3:-4]\n",
        "print(path)\n",
        "\n",
        "#Read a sample image we want to find a latent vector for\n",
        "img_path = 'geeks.jpg'\n",
        "with open(img_path,\"rb\") as f: \n",
        "  image1=Image.open(f)\n",
        "  image1=image1.convert(\"RGB\")\n",
        "transform = transforms.Compose([transforms.ToTensor()])\n",
        "image1 = transform(image1)\n",
        "image1 = image1.unsqueeze(0)\n",
        "image1 = image1.to(device)\n",
        "print(image1.shape)"
      ]
    },
    {
      "cell_type": "markdown",
      "metadata": {
        "id": "Yb34Vd9_JGDH"
      },
      "source": [
        "##Generate random images using random W vectors"
      ]
    },
    {
      "cell_type": "code",
      "execution_count": 8,
      "metadata": {
        "id": "yfYtdNLm4G4j"
      },
      "outputs": [],
      "source": [
        "for i in range(20):\n",
        "  z = torch.randn(1,512,device = device)\n",
        "  img = g_all(z)\n",
        "  img = (img +1.0)/2.0\n",
        "  save_image(img.clamp(0,1),\"save_image/random_SG1-{}.png\".format(i+1))"
      ]
    },
    {
      "cell_type": "markdown",
      "metadata": {
        "id": "FwnWHcnQJYSx"
      },
      "source": [
        "##VGG Perceptual loss network to give feature vectors from 4 parts of the pre-trained VGG-16 from 2,4,14,21"
      ]
    },
    {
      "cell_type": "code",
      "execution_count": 6,
      "metadata": {
        "id": "KbpuWsfsCeA5"
      },
      "outputs": [],
      "source": [
        "class VGG16_perceptual(torch.nn.Module):\n",
        "    def __init__(self, requires_grad=False):\n",
        "        super(VGG16_perceptual, self).__init__()\n",
        "        vgg_pretrained_features = models.vgg16(pretrained=True).features\n",
        "        self.slice1 = torch.nn.Sequential()\n",
        "        self.slice2 = torch.nn.Sequential()\n",
        "        self.slice3 = torch.nn.Sequential()\n",
        "        self.slice4 = torch.nn.Sequential()\n",
        "        for x in range(2):\n",
        "            self.slice1.add_module(str(x), vgg_pretrained_features[x])\n",
        "        for x in range(2, 4):\n",
        "            self.slice2.add_module(str(x), vgg_pretrained_features[x])\n",
        "        for x in range(4, 14):\n",
        "            self.slice3.add_module(str(x), vgg_pretrained_features[x])\n",
        "        for x in range(14, 21):\n",
        "            self.slice4.add_module(str(x), vgg_pretrained_features[x])\n",
        "        if not requires_grad:\n",
        "            for param in self.parameters():\n",
        "                param.requires_grad = False\n",
        "\n",
        "    def forward(self, X):\n",
        "        h = self.slice1(X)\n",
        "        h_relu1_1 = h\n",
        "        h = self.slice2(h)\n",
        "        h_relu1_2 = h\n",
        "        h = self.slice3(h)\n",
        "        h_relu3_2 = h\n",
        "        h = self.slice4(h)\n",
        "        h_relu4_2 = h\n",
        "        return h_relu1_1, h_relu1_2, h_relu3_2, h_relu4_2"
      ]
    },
    {
      "cell_type": "markdown",
      "metadata": {
        "id": "NRMUGjIPJcur"
      },
      "source": [
        "##Loss function to calculate MSE and Perceptual losses"
      ]
    },
    {
      "cell_type": "code",
      "execution_count": 7,
      "metadata": {
        "id": "HQKY9pcRChN0"
      },
      "outputs": [],
      "source": [
        "def loss_function(syn_img, img, img_p, MSE_loss, upsample, perceptual):\n",
        "\n",
        "  #UpSample synthesized image to match the input size of VGG-16 input. \n",
        "  #Extract mid level features for real and synthesized image and find the MSE loss between them for perceptual loss. \n",
        "  #Find MSE loss between the real and synthesized images of actual size\n",
        "  syn_img_p = upsample(syn_img)\n",
        "  syn0, syn1, syn2, syn3 = perceptual(syn_img_p)\n",
        "  r0, r1, r2, r3 = perceptual(img_p)\n",
        "  mse = MSE_loss(syn_img,img)\n",
        "\n",
        "  per_loss = 0\n",
        "  per_loss += MSE_loss(syn0,r0)\n",
        "  per_loss += MSE_loss(syn1,r1)\n",
        "  per_loss += MSE_loss(syn2,r2)\n",
        "  per_loss += MSE_loss(syn3,r3)\n",
        "\n",
        "  return mse, per_loss"
      ]
    },
    {
      "cell_type": "markdown",
      "metadata": {
        "id": "I0qEEX6uJjIW"
      },
      "source": [
        "##Calculate PSNR"
      ]
    },
    {
      "cell_type": "code",
      "execution_count": 8,
      "metadata": {
        "id": "Z6HTTZUQfvBq"
      },
      "outputs": [],
      "source": [
        "def PSNR(mse, flag = 0):\n",
        "  #flag = 0 if a single image is used and 1 if loss for a batch of images is to be calculated\n",
        "  if flag == 0:\n",
        "    psnr = 10 * log10(1 / mse.item())\n",
        "  return psnr"
      ]
    },
    {
      "cell_type": "code",
      "execution_count": 9,
      "metadata": {
        "id": "4XK765XH4wsf"
      },
      "outputs": [],
      "source": [
        "psnr_total = []"
      ]
    },
    {
      "cell_type": "markdown",
      "metadata": {
        "id": "xDxxua8kJobM"
      },
      "source": [
        "##Embedding Function to optimise the latent code W+ for GAN inversion."
      ]
    },
    {
      "cell_type": "code",
      "execution_count": 10,
      "metadata": {
        "id": "_rqFu_EZFbum"
      },
      "outputs": [],
      "source": [
        "def embedding_function(image):\n",
        "  upsample = torch.nn.Upsample(scale_factor = 256/1024, mode = 'bilinear')\n",
        "  img_p = image.clone()\n",
        "  img_p = upsample(img_p)\n",
        "  #Perceptual loss initialise object\n",
        "  perceptual = VGG16_perceptual().to(device)\n",
        "  \n",
        "  #MSE loss object\n",
        "  MSE_loss = nn.MSELoss(reduction=\"mean\")\n",
        "  #since the synthesis network expects 18 w vectors of size 1x512 thus we take latent vector of the same size\n",
        "  latents = torch.zeros((1,18,512), requires_grad = True, device = device)\n",
        "  #Optimizer to change latent code in each backward step\n",
        "  optimizer = optim.Adam({latents},lr=0.01,betas=(0.9,0.999),eps=1e-8)\n",
        "\n",
        "\n",
        "  #Loop to optimise latent vector to match the generated image to input image\n",
        "  loss_ = []\n",
        "  loss_psnr = []\n",
        "  for e in range(1500):\n",
        "    optimizer.zero_grad()\n",
        "    syn_img = g_synthesis(latents)\n",
        "    syn_img = (syn_img+1.0)/2.0\n",
        "\n",
        "    mse, per_loss = loss_function(syn_img, image, img_p, MSE_loss, upsample, perceptual)\n",
        "    psnr = PSNR(mse, flag = 0)\n",
        "    loss = per_loss +mse\n",
        "    loss.backward()\n",
        "    optimizer.step()\n",
        "    loss_np=loss.detach().cpu().numpy()\n",
        "    loss_p=per_loss.detach().cpu().numpy()\n",
        "    loss_m=mse.detach().cpu().numpy()\n",
        "    loss_psnr.append(psnr)\n",
        "    loss_.append(loss_np)\n",
        "    if (e+1)%500==0 :\n",
        "      print(\"iter{}: loss -- {},  mse_loss --{},  percep_loss --{}, psnr --{}\".format(e+1,loss_np,loss_m,loss_p,psnr))\n",
        "      save_image(syn_img.clamp(0,1),\"obama{}.png\".format(e+1))\n",
        "      #np.save(\"loss_list.npy\",loss_)\n",
        "      #np.save(\"latent_W.npy\".format(),latents.detach().cpu().numpy())\n",
        "\n",
        "  plt.plot(loss_, label = 'Loss = MSELoss + Perceptual')\n",
        "  plt.plot(loss_psnr, label = 'PSNR')\n",
        "  plt.legend()\n",
        "  return latents"
      ]
    },
    {
      "cell_type": "code",
      "execution_count": 11,
      "metadata": {
        "id": "vJmDbawVF1jt"
      },
      "outputs": [
        {
          "name": "stderr",
          "output_type": "stream",
          "text": [
            "/home/jiaqing/anaconda3/lib/python3.9/site-packages/torchvision/models/_utils.py:208: UserWarning: The parameter 'pretrained' is deprecated since 0.13 and may be removed in the future, please use 'weights' instead.\n",
            "  warnings.warn(\n",
            "/home/jiaqing/anaconda3/lib/python3.9/site-packages/torchvision/models/_utils.py:223: UserWarning: Arguments other than a weight enum or `None` for 'weights' are deprecated since 0.13 and may be removed in the future. The current behavior is equivalent to passing `weights=VGG16_Weights.IMAGENET1K_V1`. You can also use `weights=VGG16_Weights.DEFAULT` to get the most up-to-date weights.\n",
            "  warnings.warn(msg)\n"
          ]
        },
        {
          "name": "stdout",
          "output_type": "stream",
          "text": [
            "iter500: loss -- 0.6720844507217407,  mse_loss --0.015020589344203472,  percep_loss --0.6570638418197632, psnr --18.23313027124509\n",
            "iter1000: loss -- 0.41137465834617615,  mse_loss --0.007388295140117407,  percep_loss --0.4039863646030426, psnr --21.314557641299842\n",
            "iter1500: loss -- 0.3318289518356323,  mse_loss --0.005492367781698704,  percep_loss --0.3263365924358368, psnr --22.602403890947187\n"
          ]
        },
        {
          "data": {
            "image/png": "[encoded data removed]",
            "text/plain": [
              "<Figure size 640x480 with 1 Axes>"
            ]
          },
          "metadata": {},
          "output_type": "display_data"
        }
      ],
      "source": [
        "#Check generated images from 10 randomly generated faces \n",
        "\"\"\"Code in embed algo\n",
        "rnd = np.random.RandomState(7)\n",
        "z = torch.randn((1,512), requires_grad= True, device= device)\n",
        "img1 = g_all(z)\n",
        "img1 = (img1+1.0)/2.0\n",
        "latents = g_mapping(z)\n",
        "latents = torch.tensor(latents, requires_grad=True)\n",
        "save_image(img1.clamp(0,1),\"Random/random_image{}.png\".format(i))\"\"\"\n",
        "\n",
        "latent1 = embedding_function(image1)\n",
        "#latent2 = embedding_function(image1)"
      ]
    },
    {
      "cell_type": "markdown",
      "metadata": {
        "id": "qDiQaxuXJynP"
      },
      "source": [
        "##Image Morphing Experiment"
      ]
    },
    {
      "cell_type": "code",
      "execution_count": 12,
      "metadata": {},
      "outputs": [
        {
          "data": {
            "text/plain": [
              "torch.Size([1, 18, 512])"
            ]
          },
          "execution_count": 12,
          "metadata": {},
          "output_type": "execute_result"
        }
      ],
      "source": [
        "latent1.shape"
      ]
    },
    {
      "cell_type": "code",
      "execution_count": 13,
      "metadata": {
        "id": "zBQaRIkSPNvH"
      },
      "outputs": [],
      "source": [
        "for i in range(20):\n",
        "  a = (1/20)*i\n",
        "  w = latent1 * (1-a)+ latent1 * a\n",
        "  syn_img = g_synthesis(w)\n",
        "  syn_img = (syn_img+1.0)/2.0\n",
        "  save_image(syn_img.clamp(0,1),\"save_image/encode1/geek{}.png\".format(i))"
      ]
    },
    {
      "cell_type": "markdown",
      "metadata": {
        "id": "TdHUYYGwKEbK"
      },
      "source": [
        "##Hierarchical Optimisation by optimising W vector first followed by optimising W+ in second pass"
      ]
    },
    {
      "cell_type": "code",
      "execution_count": null,
      "metadata": {
        "id": "5ij5gC03-lNO"
      },
      "outputs": [],
      "source": [
        "def embedding_Hierarchical(image):\n",
        "  upsample = torch.nn.Upsample(scale_factor = 256/1024, mode = 'bilinear')\n",
        "  img_p = image.clone()\n",
        "  img_p = upsample(img_p)\n",
        "  \n",
        "  #Perceptual loss initialise object\n",
        "  perceptual = VGG16_perceptual().to(device)\n",
        "  \n",
        "  #MSE loss object\n",
        "  MSE_loss = nn.MSELoss(reduction=\"mean\")\n",
        "  #since the synthesis network expects 18 w vectors of size 1x512 thus we take latent vector of the same size\n",
        "  latent_w = torch.zeros((1,512), requires_grad = True, device = device)\n",
        "  \n",
        "  #Optimizer to change latent code in each backward step\n",
        "  optimizer = optim.Adam({latent_w},lr=0.01,betas=(0.9,0.999),eps=1e-8)\n",
        "\n",
        "\n",
        "  #Loop to optimise latent vector to match the generated image to input image\n",
        "  loss_ = []\n",
        "  loss_psnr = []\n",
        "  for e in range(1000):\n",
        "    optimizer.zero_grad()\n",
        "    latent_w1 = latent_w.unsqueeze(1).expand(-1, 18, -1)\n",
        "    syn_img = g_synthesis(latent_w1)\n",
        "    syn_img = (syn_img+1.0)/2.0\n",
        "    print(syn_img.shape)\n",
        "    print(image.shape)\n",
        "    mse, per_loss = loss_function(syn_img, image, img_p, MSE_loss, upsample, perceptual)\n",
        "    psnr = PSNR(mse, flag = 0)\n",
        "    loss = per_loss +mse\n",
        "    loss.backward()\n",
        "    optimizer.step()\n",
        "    loss_np=loss.detach().cpu().numpy()\n",
        "    loss_p=per_loss.detach().cpu().numpy()\n",
        "    loss_m=mse.detach().cpu().numpy()\n",
        "    loss_psnr.append(psnr)\n",
        "    loss_.append(loss_np)\n",
        "    if (e+1)%500==0 :\n",
        "      print(\"iter{}: loss -- {},  mse_loss --{},  percep_loss --{}, psnr --{}\".format(e+1,loss_np,loss_m,loss_p,psnr))\n",
        "      save_image(syn_img.clamp(0,1),\"Hier_pass_morphP1-{}.png\".format(e+1))\n",
        "      #np.save(\"loss_list.npy\",loss_)\n",
        "      #np.save(\"latent_W.npy\".format(),latents.detach().cpu().numpy())\n",
        "\n",
        "  \n",
        "  latent_w1 = latent_w.unsqueeze(1).expand(-1, 18, -1)\n",
        "  latent_w1 = torch.tensor(latent_w1, requires_grad=True)\n",
        "  optimizer = optim.Adam({latent_w1},lr=0.01,betas=(0.9,0.999),eps=1e-8)\n",
        "  for e in range(1000):  \n",
        "    optimizer.zero_grad()\n",
        "    syn_img = g_synthesis(latent_w1)\n",
        "    syn_img = (syn_img+1.0)/2.0\n",
        "    mse, per_loss = loss_function(syn_img, image, img_p, MSE_loss, upsample, perceptual)\n",
        "    psnr = PSNR(mse, flag = 0)\n",
        "    loss = per_loss +mse\n",
        "    loss.backward()\n",
        "    optimizer.step()\n",
        "    loss_np=loss.detach().cpu().numpy()\n",
        "    loss_p=per_loss.detach().cpu().numpy()\n",
        "    loss_m=mse.detach().cpu().numpy()\n",
        "    loss_psnr.append(psnr)\n",
        "    loss_.append(loss_np)\n",
        "    if (e+1)%500==0 :\n",
        "      print(\"iter{}: loss -- {},  mse_loss --{},  percep_loss --{}, psnr --{}\".format(e+1,loss_np,loss_m,loss_p,psnr))\n",
        "      save_image(syn_img.clamp(0,1),\"Hier_pass_morphP2-{}.png\".format(e+1))\n",
        "\n",
        "\n",
        "  plt.plot(loss_, label = 'Loss = MSELoss + Perceptual')\n",
        "  plt.plot(loss_psnr, label = 'PSNR')\n",
        "  plt.legend()\n",
        "  return latent_w1"
      ]
    },
    {
      "cell_type": "markdown",
      "metadata": {
        "id": "esrDWGdZKO34"
      },
      "source": [
        "##Obtaining latent codes for 2 images using Hierarchical Optimisation to check Image Morphing"
      ]
    },
    {
      "cell_type": "code",
      "execution_count": null,
      "metadata": {
        "id": "gkvuIrWSBeSD"
      },
      "outputs": [],
      "source": [
        "latent1 = embedding_Hierarchical(image)\n",
        "latent2 = embedding_Hierarchical(image1)"
      ]
    },
    {
      "cell_type": "code",
      "execution_count": null,
      "metadata": {
        "id": "4H3xEUPqC4fm"
      },
      "outputs": [],
      "source": [
        "#Image Morphing Experiment\n",
        "for i in range(20):\n",
        "  a = (1/20)*i\n",
        "  w = latent2 * (1-a)+ latent1 * a\n",
        "  syn_img = g_synthesis(w)\n",
        "  syn_img = (syn_img+1.0)/2.0\n",
        "  save_image(syn_img.clamp(0,1),\"Hier-Morphed{}.png\".format(i))"
      ]
    },
    {
      "cell_type": "markdown",
      "metadata": {
        "id": "XXQCxHx-qxuJ"
      },
      "source": [
        "Downsamplimg to use a deeper network as it reduces computational cost as well as to increase receptive field. As downsampled image each pixel in it will have a wider receptive area it will affect in the actual higher dimensional image.\n",
        "\n",
        "Instead of pixel wise similarity we push for similarity in feature representations of real and synthesized images.\n",
        "\n",
        "Downsample to match the input size expectation of VGG - 256 or 224\n",
        "\n",
        "Taken Perceptual loss online official implementation\n",
        "\n",
        "We dont need the mapping part of the StyleGAN but only synthesis part which expects input as 1 x 18 x 512 i.e, 18 w's each input into the layers of Synthesis part."
      ]
    }
  ],
  "metadata": {
    "accelerator": "GPU",
    "colab": {
      "authorship_tag": "ABX9TyMslSjvw8dAgn8L2Y3lgvDi",
      "collapsed_sections": [],
      "include_colab_link": true,
      "name": "Image2Style-Implementation.ipynb",
      "provenance": []
    },
    "kernelspec": {
      "display_name": "base",
      "language": "python",
      "name": "python3"
    },
    "language_info": {
      "codemirror_mode": {
        "name": "ipython",
        "version": 3
      },
      "file_extension": ".py",
      "mimetype": "text/x-python",
      "name": "python",
      "nbconvert_exporter": "python",
      "pygments_lexer": "ipython3",
      "version": "3.9.13 (main, Aug 25 2022, 23:26:10) \n[GCC 11.2.0]"
    },
    "vscode": {
      "interpreter": {
        "hash": "29479663928d660a78cf5cf1b42fab588b4184d8f8b9c0f747d52a9ebd75cd34"
      }
    }
  },
  "nbformat": 4,
  "nbformat_minor": 0
}
